{
 "cells": [
  {
   "cell_type": "markdown",
   "metadata": {},
   "source": [
    "- Create an empty dictionary called dog\n",
    "  "
   ]
  },
  {
   "cell_type": "code",
   "execution_count": 2,
   "metadata": {},
   "outputs": [],
   "source": [
    "dog = {}"
   ]
  },
  {
   "cell_type": "markdown",
   "metadata": {},
   "source": [
    "- Add name, color, breed, legs, age to the dog dictionary"
   ]
  },
  {
   "cell_type": "code",
   "execution_count": 3,
   "metadata": {},
   "outputs": [],
   "source": [
    "dog[\"name\"] = \"Spiky\"\n",
    "dog[\"colour\"] = \"brown\"\n",
    "dog[\"legs\"] = \"4\"\n",
    "dog[\"Lasa\"] = \"5\"\n"
   ]
  },
  {
   "cell_type": "markdown",
   "metadata": {},
   "source": [
    "- Create a student dictionary and add first_name, last_name, gender, age, marital status, skills, country, city and address as keys for the dictionary\n",
    "- Get the length of the student dictionary\n",
    "- Get the value of skills and check the data type, it should be a list\n",
    "- Modify the skills values by adding one or two skills"
   ]
  },
  {
   "cell_type": "code",
   "execution_count": 26,
   "metadata": {},
   "outputs": [
    {
     "name": "stdout",
     "output_type": "stream",
     "text": [
      "student Dictionary: {'first_name': 'Khalifa', 'Last_name': 'Hamisu', 'gender': 'Male', 'marital_status': 'Single', 'Skills': ['python', 'Data Analysis'], 'country': 'Nigeria', 'city': 'Abuja', 'address': '123 elm street'}\n",
      "the length of the dictionary :8\n",
      "skills :['python', 'Data Analysis']\n",
      "Data type of list: <class 'list'>\n",
      "Updated skills list:['python', 'Data Analysis', 'Machine Learning', 'Web Development']\n"
     ]
    }
   ],
   "source": [
    "student = {\n",
    "    \"first_name\": \"Khalifa\",\n",
    "    \"Last_name\" : \"Hamisu\",\n",
    "    \"gender\" : \"Male\",\n",
    "    \"marital_status\" : \"Single\",\n",
    "    \"Skills\" : [\"python\",\"Data Analysis\"],\n",
    "    \"country\" : \"Nigeria\",\n",
    "    \"city\"  : \"Abuja\",\n",
    "    \"address\" : \"123 elm street\"}\n",
    "\n",
    "print(f\"student Dictionary: {student}\")\n",
    "\n",
    "print(f\"the length of the dictionary :{len\n",
    "(student)}\")\n",
    "\n",
    "skills = student[\"Skills\"]\n",
    "print(f\"skills :{skills}\")\n",
    "print(f\"Data type of list: {type(skills)}\")\n",
    "\n",
    "student[\"Skills\"].extend([\"Machine Learning\",\"Web Development\"])\n",
    "print(f\"Updated skills list:{student[\"Skills\"]}\")\n"
   ]
  },
  {
   "cell_type": "markdown",
   "metadata": {},
   "source": [
    "- Get the dictionary keys as a list\n",
    "- Get the dictionary values as a list\n",
    "- Change the dictionary to a list of tuples using items() method\n",
    "- Delete one of the items in the dictionary\n",
    "- Delete one of the dictionaries"
   ]
  },
  {
   "cell_type": "code",
   "execution_count": 27,
   "metadata": {},
   "outputs": [
    {
     "name": "stdout",
     "output_type": "stream",
     "text": [
      "student Dictionary list:['first_name', 'Last_name', 'gender', 'marital_status', 'Skills', 'country', 'city', 'address']\n",
      "student Dictionary Values:['Khalifa', 'Hamisu', 'Male', 'Single', ['python', 'Data Analysis', 'Machine Learning', 'Web Development'], 'Nigeria', 'Abuja', '123 elm street']\n",
      "Student Dictionary as a list of tuples :[('first_name', 'Khalifa'), ('Last_name', 'Hamisu'), ('gender', 'Male'), ('marital_status', 'Single'), ('Skills', ['python', 'Data Analysis', 'Machine Learning', 'Web Development']), ('country', 'Nigeria'), ('city', 'Abuja'), ('address', '123 elm street')]\n",
      "Student Dictionary After Deleting Address :{'first_name': 'Khalifa', 'Last_name': 'Hamisu', 'gender': 'Male', 'marital_status': 'Single', 'Skills': ['python', 'Data Analysis', 'Machine Learning', 'Web Development'], 'country': 'Nigeria', 'city': 'Abuja'}\n",
      "Dog Dictionaries Delete:\n"
     ]
    }
   ],
   "source": [
    "keys = list(student.keys())\n",
    "print(f\"student Dictionary list:{keys}\")\n",
    "\n",
    "values = list(student.values())\n",
    "print(f\"student Dictionary Values:{values}\")\n",
    "\n",
    "student_tuples = list(student.items())\n",
    "print(f\"Student Dictionary as a list of tuples :{student_tuples}\")\n",
    "\n",
    "del student[\"address\"]\n",
    "print(f\"Student Dictionary After Deleting Address :{student}\")\n",
    "del dog\n",
    "print(\"Dog Dictionaries Delete:\")\n",
    "\n"
   ]
  }
 ],
 "metadata": {
  "kernelspec": {
   "display_name": "Python 3",
   "language": "python",
   "name": "python3"
  },
  "language_info": {
   "codemirror_mode": {
    "name": "ipython",
    "version": 3
   },
   "file_extension": ".py",
   "mimetype": "text/x-python",
   "name": "python",
   "nbconvert_exporter": "python",
   "pygments_lexer": "ipython3",
   "version": "3.13.0"
  }
 },
 "nbformat": 4,
 "nbformat_minor": 2
}
