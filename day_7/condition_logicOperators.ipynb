{
 "cells": [
  {
   "cell_type": "markdown",
   "metadata": {},
   "source": [
    "Get user input using input(“Enter your age: ”). If user is 18 or older, give feedback: You are old enough to drive. If below 18 give feedback to wait for the missing amount of years. Output:"
   ]
  },
  {
   "cell_type": "code",
   "execution_count": 3,
   "metadata": {},
   "outputs": [
    {
     "name": "stdout",
     "output_type": "stream",
     "text": [
      "you need 3 more years to learn to drive\n"
     ]
    }
   ],
   "source": [
    "age = int(input(\"Enter your age:\"))\n",
    "\n",
    "if age >= 18:\n",
    "    print(\"You are old enoughnto learn to drive.\")\n",
    "else:\n",
    "    missing_years = 18 - age\n",
    "    print(f\"you need {missing_years} more years to learn to drive\")\n"
   ]
  },
  {
   "cell_type": "markdown",
   "metadata": {},
   "source": [
    "Compare the values of my_age and your_age using if … else. Who is older (me or you)? Use input(“Enter your age: ”) to get the age as input. You can use a nested condition to print 'year' for 1 year difference in age, 'years' for bigger differences, and a custom text if my_age = your_age. Output:Enter your age: 30\n",
    "You are 5 years older than me."
   ]
  },
  {
   "cell_type": "code",
   "execution_count": 4,
   "metadata": {},
   "outputs": [
    {
     "name": "stdout",
     "output_type": "stream",
     "text": [
      "you are 5 years older than me.\n"
     ]
    }
   ],
   "source": [
    "my_age = 25\n",
    "your_age = int(input(\"Enter your age:\"))\n",
    "\n",
    "if your_age > my_age:\n",
    "    diff = your_age - my_age\n",
    "    if diff == 1:\n",
    "        print(\"you are one year older than me.\")\n",
    "    else:\n",
    "        print(f\"you are {diff} years older than me.\")\n",
    "\n",
    "elif your_age < my_age:\n",
    "    diff = my_age - your_age\n",
    "    if diff == 1:\n",
    "        print(\"I am 1 year older than you\")\n",
    "    else:\n",
    "        print(f\"I am {diff} years older than you\")\n",
    "else:\n",
    "    print(\"We are the same age!\")"
   ]
  },
  {
   "cell_type": "markdown",
   "metadata": {},
   "source": [
    "Get two numbers from the user using input prompt. If a is greater than b return a is greater than b, if a is less b return a is smaller than b, else a is equal to b. Output:\n",
    "Enter number one: 4\n",
    "Enter number two: 3\n",
    "4 is greater than 3"
   ]
  },
  {
   "cell_type": "code",
   "execution_count": 2,
   "metadata": {},
   "outputs": [
    {
     "name": "stdout",
     "output_type": "stream",
     "text": [
      "4 is greater than 3\n"
     ]
    }
   ],
   "source": [
    "a= int(input(\"Enter the  firstnumber:\"))\n",
    "b= int(input(\"Enter the second number:\"))\n",
    "\n",
    "if a > b:\n",
    "    print(f\"{a} is greater than {b}\")\n",
    "elif a < b:\n",
    "    print(f\"{a} is smaller than {b}\")\n",
    "else:\n",
    "    print(f\"{a} is equal to {b}\")"
   ]
  },
  {
   "cell_type": "markdown",
   "metadata": {},
   "source": [
    "Write a code which gives grade to students according to theirs scores:80-100, A\n",
    "70-89, B\n",
    "60-69, C\n",
    "50-59, D\n",
    "0-49, F\n"
   ]
  },
  {
   "cell_type": "code",
   "execution_count": 3,
   "metadata": {},
   "outputs": [
    {
     "name": "stdout",
     "output_type": "stream",
     "text": [
      "The grade for the score 90 is A\n"
     ]
    }
   ],
   "source": [
    "score = int(input(\"Enter the student's score:\"))\n",
    "\n",
    "if 80 <= score <= 100:\n",
    "    grade = \"A\"\n",
    "elif 70  <= score <=79:\n",
    "    grade = \"B\"\n",
    "elif 60 <= score <= 69 :\n",
    "    grade = \"C\"\n",
    "elif 50 <= score <= 59:\n",
    "    grade =\"D\"\n",
    "elif 0 <= score <= 50:\n",
    "    grade = \"F\"\n",
    "else:\n",
    "    grade = \"Invalid Score\"\n",
    "\n",
    "print(f\"The grade for the score {score} is {grade}\")\n"
   ]
  },
  {
   "cell_type": "markdown",
   "metadata": {},
   "source": [
    "- Check if the season is Autumn, Winter, Spring or Summer. If the user input is: September, October or November, the season is Autumn. December, January or February, the season is Winter. March, April or May, the season is Spring June, July or August, the season is Summer\n",
    "\n"
   ]
  },
  {
   "cell_type": "code",
   "execution_count": 6,
   "metadata": {},
   "outputs": [
    {
     "name": "stdout",
     "output_type": "stream",
     "text": [
      "The season for the month of October is Autumn\n"
     ]
    }
   ],
   "source": [
    "month = input(\"Enter month:\").strip().capitalize()\n",
    "\n",
    "if month in [\"September\",\"October\",\"November\"]:\n",
    "    season = \"Autumn\"\n",
    "elif month in [\"December\",\"January\",\"February\"]:\n",
    "    season = \"Winter\"\n",
    "elif month in [\"March\",\"April\",\"May\"]:\n",
    "    season = \"Spring\"\n",
    "elif month in [\"June\",\"July\",\"August\"]:\n",
    "    season = \"Summer\"\n",
    "else:\n",
    "    season = \"Invalid month\"\n",
    "print(f\"The season for the month of {month} is {season}\")\n"
   ]
  },
  {
   "cell_type": "markdown",
   "metadata": {},
   "source": [
    "- The following list contains some fruits:\n",
    "sh\n",
    "fruits = ['banana', 'orange', 'mango', 'lemon'\n",
    "- If a fruit doesn't exist in the list add the fruit to the list and print the modified list. If the fruit exists print('That fruit already exist in the list')"
   ]
  },
  {
   "cell_type": "code",
   "execution_count": 8,
   "metadata": {},
   "outputs": [
    {
     "name": "stdout",
     "output_type": "stream",
     "text": [
      "The modified fruit list is :['banana', 'orange', 'mango', 'lemon', 'grape']\n"
     ]
    }
   ],
   "source": [
    "fruits = [\"banana\",\"orange\",\"mango\",\"lemon\"]\n",
    "\n",
    "new_fruit = input(\"Enter fruit:\").strip().lower()\n",
    "\n",
    "if new_fruit in fruits:\n",
    "    print(\"The fruit already exists in the list.\")\n",
    "else:\n",
    "    fruits.append(new_fruit)\n",
    "    print(f\"The modified fruit list is :{fruits}\")"
   ]
  },
  {
   "cell_type": "markdown",
   "metadata": {},
   "source": [
    "- Here we have a person dictionary. Feel free to modify it!    \n",
    " person={\n",
    "    'first_name': 'Asabeneh',\n",
    "    'last_name': 'Yetayeh',\n",
    "    'age': 250,\n",
    "    'country': 'Finland',\n",
    "    'is_marred': True,\n",
    "    'skills': ['JavaScript', 'React', 'Node', 'MongoDB', 'Python'],\n",
    "    'address': {\n",
    "        'street': 'Space street',\n",
    "        'zipcode': '02210'\n",
    "    }\n",
    "    }"
   ]
  },
  {
   "cell_type": "code",
   "execution_count": 18,
   "metadata": {},
   "outputs": [
    {
     "name": "stdout",
     "output_type": "stream",
     "text": [
      "{'first_name': 'Asabeneh', 'last_name': 'Yetayeh', 'age': 251, 'country': 'Finland', 'is_marred': True, 'skills': ['JavaScript', 'React', 'Node', 'MongoDB', 'Python', 'Django'], 'address': {'street': 'Space street', 'zipcode': '02210'}, 'hobby': 'Reading'}\n",
      "Middle skill: MongoDB\n",
      "Has Python skill: True\n",
      "He is a backend developer\n",
      "Asabeneh Yetayeh is married and lives in Finland.\n",
      "Asabeneh Yetayeh lives in Finland. He is married.\n"
     ]
    }
   ],
   "source": [
    "person = {\n",
    "    'first_name': 'Asabeneh',\n",
    "    'last_name': 'Yetayeh',\n",
    "    'age': 251,\n",
    "    'country': 'Finland',\n",
    "    'is_marred': True,\n",
    "    'skills': ['JavaScript', 'React', 'Node', 'MongoDB', 'Python', 'Django'],\n",
    "    'address': {\n",
    "        'street': 'Space street',\n",
    "        'zipcode': '02210'\n",
    "    },\n",
    "    'hobby': 'Reading'\n",
    "}\n",
    "print(person)\n",
    "\n",
    "if 'skills' in person:\n",
    "    skills = person['skills']\n",
    "    middle_index = len(skills) // 2\n",
    "    print(f\"Middle skill: {skills[middle_index]}\")\n",
    "\n",
    "\n",
    "if 'skills' in person:\n",
    "    has_python = 'Python' in person['skills']\n",
    "    print(f\"Has Python skill: {has_python}\")\n",
    "\n",
    "if 'skills' in person:\n",
    "    skills = person['skills']\n",
    "\n",
    "    if set(skills) == {'JavaScript', 'React'}:\n",
    "        print('He is a front end developer')\n",
    "\n",
    "    elif set(skills) >= {'Node', 'Python', 'MongoDB'}:\n",
    "        print('He is a backend developer')\n",
    "\n",
    "    elif set(skills) >= {'React', 'Node', 'MongoDB'}:\n",
    "        print('He is a fullstack developer')\n",
    "\n",
    "    else:\n",
    "        print('Unknown title')\n",
    "\n",
    "\n",
    "if person['is_marred'] and person['country'] == 'Finland':\n",
    "    print(f\"{person['first_name']} {person['last_name']} is married and lives in {person['country']}.\")\n",
    "\n",
    "if person['is_marred'] and person['country'] == 'Finland':\n",
    "    print(f\"{person['first_name']} {person['last_name']} lives in {person['country']}. He is married.\")"
   ]
  },
  {
   "cell_type": "markdown",
   "metadata": {},
   "source": []
  }
 ],
 "metadata": {
  "kernelspec": {
   "display_name": "Python 3",
   "language": "python",
   "name": "python3"
  },
  "language_info": {
   "codemirror_mode": {
    "name": "ipython",
    "version": 3
   },
   "file_extension": ".py",
   "mimetype": "text/x-python",
   "name": "python",
   "nbconvert_exporter": "python",
   "pygments_lexer": "ipython3",
   "version": "3.13.0"
  }
 },
 "nbformat": 4,
 "nbformat_minor": 2
}
