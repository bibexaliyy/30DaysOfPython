{
 "cells": [
  {
   "cell_type": "markdown",
   "metadata": {},
   "source": [
    "List Exercises level1"
   ]
  },
  {
   "cell_type": "code",
   "execution_count": 35,
   "metadata": {},
   "outputs": [
    {
     "name": "stdout",
     "output_type": "stream",
     "text": [
      "The length of this list is: 5\n",
      "first_item: book middle_item: shoe last_item: ruler\n",
      "['Facebook', 'Google', 'Microsoft', 'Apple', 'IBM', 'Oracle', 'Amazon']\n",
      "the number of ompanies in th list are  7\n",
      "first_company: Facebook middle_company: Microsoft last_company: Amazon\n",
      "('Facebook', 'Meta')\n",
      "['Meta', 'Google', 'Microsoft', 'Apple', 'IBM', 'Oracle', 'Amazon']\n",
      "After adding twitter as th  new IT company the new companies are: ['Meta', 'Google', 'Microsoft', 'Apple', 'IBM', 'Oracle', 'Amazon', 'Twitter']\n",
      "['Meta', 'Google', 'Microsoft', 'Apple', 'Pinterest', 'IBM', 'Oracle', 'Amazon', 'Twitter']\n",
      "After changing google to upper case: ['Meta', 'GOOGLE', 'Microsoft', 'Apple', 'Pinterest', 'IBM', 'Oracle', 'Amazon', 'Twitter']\n",
      "Joined companies: Meta#; GOOGLE#; Microsoft#; Apple#; Pinterest#; IBM#; Oracle#; Amazon#; Twitter\n",
      "is Bibexglobal in the list? False\n",
      "sorted list: ['Amazon', 'Apple', 'GOOGLE', 'IBM', 'Meta', 'Microsoft', 'Oracle', 'Pinterest', 'Twitter']\n",
      "Reversed list: ['Twitter', 'Pinterest', 'Oracle', 'Microsoft', 'Meta', 'IBM', 'GOOGLE', 'Apple', 'Amazon']\n",
      "First three companies are: ['Twitter', 'Pinterest', 'Oracle']\n",
      "Last three companies are: ['GOOGLE', 'Apple', 'Amazon']\n",
      "Middle Company is: Meta\n",
      "After removing the first company: ['Pinterest', 'Oracle', 'Microsoft', 'Meta', 'IBM', 'GOOGLE', 'Apple', 'Amazon']\n",
      "After removing the middle company ['Pinterest', 'Oracle', 'Microsoft', 'Meta', 'GOOGLE', 'Apple', 'Amazon']\n",
      "['Pinterest', 'Oracle', 'Microsoft', 'Meta', 'GOOGLE', 'Apple']\n",
      "After clearing IT companies: []\n",
      "['HTML', 'CSS', 'JS', 'React', 'Redux', 'Node', 'Express', 'MongoDB']\n",
      "Full_stack list: ['HTML', 'CSS', 'JS', 'React', 'Redux', 'Python', 'SQL', 'Node', 'Express', 'MongoDB']\n"
     ]
    }
   ],
   "source": [
    "empty_list=[]\n",
    "\n",
    "list=['book','bag','shoe','cup','ruler']\n",
    "\n",
    "length_list=len(list)\n",
    "print(\"The length of this list is:\",length_list)\n",
    "\n",
    "first_item=list[0]\n",
    "middle_item=list[len(list)//2]\n",
    "last_item=list[-1]\n",
    "print(\"first_item:\",first_item, \"middle_item:\",middle_item, \"last_item:\",last_item)\n",
    "\n",
    "mixed_data_types=[\"Habiba\",28,5.8,\"single\",\"Dutse Jigawa\"]\n",
    "\n",
    "it_companies=[\"Facebook\",\"Google\",\"Microsoft\",\"Apple\",\"IBM\",\"Oracle\",\"Amazon\"]\n",
    "\n",
    "print(it_companies)\n",
    "print(\"the number of ompanies in th list are \",len(it_companies))\n",
    "\n",
    "\n",
    "\n",
    "first_company=it_companies[0]\n",
    "middle_company=it_companies[len(list)//2]\n",
    "last_company=it_companies[-1]\n",
    "print(\"first_company:\",first_company, \"middle_company:\",middle_company, \"last_company:\",last_company)\n",
    "\n",
    "first_companyM=first_company,\"Meta\"\n",
    "print(first_companyM)\n",
    "#or\n",
    "it_companies[0]=\"Meta\"\n",
    "print(it_companies)\n",
    "\n",
    "it_companies.append(\"Twitter\")\n",
    "print(\"After adding twitter as th  new IT company the new companies are:\",it_companies)\n",
    "\n",
    "it_companies.insert(len(it_companies)//2,\"Pinterest\")\n",
    "print(it_companies)\n",
    "\n",
    "it_companies[1]=it_companies[1].upper()\n",
    "print(\"After changing google to upper case:\",it_companies)\n",
    "\n",
    "joined_companies=\"#; \".join(it_companies)\n",
    "print(\"Joined companies:\",joined_companies)\n",
    "\n",
    "\n",
    "\n",
    "chck_company=\"Bibexglobal\" in it_companies\n",
    "print(\"is Bibexglobal in the list?\",chck_company)\n",
    "\n",
    "\n",
    "it_companies.sort()\n",
    "print(\"sorted list:\",it_companies)\n",
    "\n",
    "it_companies.reverse()\n",
    "print(\"Reversed list:\",it_companies)\n",
    "\n",
    "\n",
    "first_three=it_companies[:3]\n",
    "print(\"First three companies are:\",first_three)\n",
    "\n",
    "last_three=it_companies[-3 :]\n",
    "print(\"Last three companies are:\",last_three)\n",
    "\n",
    "\n",
    "middle_index = len(it_companies) // 2\n",
    "middle_company = it_companies[middle_index] if len(it_companies) % 2 != 0 else it_companies[middle_index-1:middle_index+1]\n",
    "print(\"Middle Company is:\", middle_company)\n",
    "\n",
    "it_companies.pop(0)\n",
    "print(\"After removing the first company:\",it_companies)\n",
    "\n",
    "middle_index=len(it_companies)//2\n",
    "it_companies.pop(middle_index)\n",
    "print(\"After removing the middle company\",it_companies)\n",
    "\n",
    "it_companies.pop(-1)\n",
    "print(it_companies)\n",
    "\n",
    "it_companies.clear()\n",
    "print(\"After clearing IT companies:\",it_companies)\n",
    "\n",
    "del it_companies\n",
    "\n",
    "\n",
    "front_end = ['HTML', 'CSS', 'JS', 'React', 'Redux']\n",
    "back_end = ['Node','Express', 'MongoDB']\n",
    "joined_list=front_end + back_end\n",
    "print(joined_list)\n",
    "\n",
    "\n",
    "full_stack=['HTML', 'CSS', 'JS', 'React', 'Redux', 'Node', 'Express', 'MongoDB']\n",
    "redux_index=full_stack.index(\"Redux\")\n",
    "full_stack.insert(redux_index + 1,\"Python\")\n",
    "full_stack.insert(redux_index + 2, \"SQL\")\n",
    "print(\"Full_stack list:\",full_stack)"
   ]
  },
  {
   "cell_type": "markdown",
   "metadata": {},
   "source": [
    "Lists Exercise Level 2"
   ]
  },
  {
   "cell_type": "code",
   "execution_count": 3,
   "metadata": {},
   "outputs": [
    {
     "name": "stdout",
     "output_type": "stream",
     "text": [
      "Min age: 19\n",
      "Max age: 26\n",
      "[19, 19, 20, 22, 24, 24, 24, 25, 25, 26, 19, 26]\n",
      "Median_age: 24.0\n",
      "Average age: 22.75\n",
      "Range of ages: 7\n",
      "The difference between min_age an average_age is : 3.75\n",
      "The diffrence between the max_age and average_age is : 3.25\n",
      "Middle country(ies): 'Lesotho',\n",
      "First half: ['countries = [', \"'Afghanistan',\", \"'Albania',\", \"'Algeria',\", \"'Andorra',\", \"'Angola',\", \"'Antigua and Barbuda',\", \"'Argentina',\", \"'Armenia',\", \"'Australia',\", \"'Austria',\", \"'Azerbaijan',\", \"'Bahamas',\", \"'Bahrain',\", \"'Bangladesh',\", \"'Barbados',\", \"'Belarus',\", \"'Belgium',\", \"'Belize',\", \"'Benin',\", \"'Bhutan',\", \"'Bolivia',\", \"'Bosnia and Herzegovina',\", \"'Botswana',\", \"'Brazil',\", \"'Brunei',\", \"'Bulgaria',\", \"'Burkina Faso',\", \"'Burundi',\", \"'Cambodia',\", \"'Cameroon',\", \"'Canada',\", \"'Cape Verde',\", \"'Central African Republic',\", \"'Chad',\", \"'Chile',\", \"'China',\", \"'Colombi',\", \"'Comoros',\", \"'Congo (Brazzaville)',\", \"'Congo',\", \"'Costa Rica',\", '\"Cote d\\'Ivoire\",', \"'Croatia',\", \"'Cuba',\", \"'Cyprus',\", \"'Czech Republic',\", \"'Denmark',\", \"'Djibouti',\", \"'Dominica',\", \"'Dominican Republic',\", \"'East Timor (Timor Timur)',\", \"'Ecuador',\", \"'Egypt',\", \"'El Salvador',\", \"'Equatorial Guinea',\", \"'Eritrea',\", \"'Estonia',\", \"'Ethiopia',\", \"'Fiji',\", \"'Finland',\", \"'France',\", \"'Gabon',\", \"'Gambia, The',\", \"'Georgia',\", \"'Germany',\", \"'Ghana',\", \"'Greece',\", \"'Grenada',\", \"'Guatemala',\", \"'Guinea',\", \"'Guinea-Bissau',\", \"'Guyana',\", \"'Haiti',\", \"'Honduras',\", \"'Hungary',\", \"'Iceland',\", \"'India',\", \"'Indonesia',\", \"'Iran',\", \"'Iraq',\", \"'Ireland',\", \"'Israel',\", \"'Italy',\", \"'Jamaica',\", \"'Japan',\", \"'Jordan',\", \"'Kazakhstan',\", \"'Kenya',\", \"'Kiribati',\", \"'Korea, North',\", \"'Korea, South',\", \"'Kuwait',\", \"'Kyrgyzstan',\", \"'Laos',\", \"'Latvia',\", \"'Lebanon',\", \"'Lesotho',\"]\n",
      "Second half: [\"'Liberia',\", \"'Libya',\", \"'Liechtenstein',\", \"'Lithuania',\", \"'Luxembourg',\", \"'Macedonia',\", \"'Madagascar',\", \"'Malawi',\", \"'Malaysia',\", \"'Maldives',\", \"'Mali',\", \"'Malta',\", \"'Marshall Islands',\", \"'Mauritania',\", \"'Mauritius',\", \"'Mexico',\", \"'Micronesia',\", \"'Moldova',\", \"'Monaco',\", \"'Mongolia',\", \"'Morocco',\", \"'Mozambique',\", \"'Myanmar',\", \"'Namibia',\", \"'Nauru',\", \"'Nepal',\", \"'Netherlands',\", \"'New Zealand',\", \"'Nicaragua',\", \"'Niger',\", \"'Nigeria',\", \"'Norway',\", \"'Oman',\", \"'Pakistan',\", \"'Palau',\", \"'Panama',\", \"'Papua New Guinea',\", \"'Paraguay',\", \"'Peru',\", \"'Philippines',\", \"'Poland',\", \"'Portugal',\", \"'Qatar',\", \"'Romania',\", \"'Russia',\", \"'Rwanda',\", \"'Saint Kitts and Nevis',\", \"'Saint Lucia',\", \"'Saint Vincent',\", \"'Samoa',\", \"'San Marino',\", \"'Sao Tome and Principe',\", \"'Saudi Arabia',\", \"'Senegal',\", \"'Serbia and Montenegro',\", \"'Seychelles',\", \"'Sierra Leone',\", \"'Singapore',\", \"'Slovakia',\", \"'Slovenia',\", \"'Solomon Islands',\", \"'Somalia',\", \"'South Africa',\", \"'Spain',\", \"'Sri Lanka',\", \"'Sudan',\", \"'Suriname',\", \"'Swaziland',\", \"'Sweden',\", \"'Switzerland',\", \"'Syria',\", \"'Taiwan',\", \"'Tajikistan',\", \"'Tanzania',\", \"'Thailand',\", \"'Togo',\", \"'Tonga',\", \"'Trinidad and Tobago',\", \"'Tunisia',\", \"'Turkey',\", \"'Turkmenistan',\", \"'Tuvalu',\", \"'Uganda',\", \"'Ukraine',\", \"'United Arab Emirates',\", \"'United Kingdom',\", \"'United States',\", \"'Uruguay',\", \"'Uzbekistan',\", \"'Vanuatu',\", \"'Vatican City',\", \"'Venezuela',\", \"'Vietnam',\", \"'Yemen',\", \"'Zambia',\", \"'Zimbabwe'\", ']']\n",
      "First Country : China\n",
      "Second Country : Russia\n",
      "Third Country : USA\n",
      "Scandic Countries : ['Finland', 'Sweden', 'Norway', 'Dennark']\n"
     ]
    }
   ],
   "source": [
    "ages=[19,22,19,24,20,25,26,24,25,24]\n",
    "\n",
    "ages.sort()\n",
    "min_age=ages[0]\n",
    "max_age=ages[-1]\n",
    "print(\"Min age:\",min_age)\n",
    "print(\"Max age:\",max_age)\n",
    "\n",
    "ages.append(min_age)\n",
    "ages.append(max_age)\n",
    "print(ages)\n",
    "\n",
    "#finding median age\n",
    "ages.sort()\n",
    "n=len(ages)\n",
    "median_age=ages[n//2] if n % 2 !=0 else(ages[n//2-1] +ages[n//2])/2\n",
    "print(\"Median_age:\",median_age)\n",
    "\n",
    "#finding the average age\n",
    "average_age=sum(ages)/len(ages)\n",
    "print(\"Average age:\",average_age)\n",
    "\n",
    "#find the range of the age\n",
    "age_range=max_age-min_age\n",
    "print(\"Range of ages:\",age_range)\n",
    "\n",
    "#comparing the values\n",
    "min_diff=abs(min_age-average_age)\n",
    "max_diff=abs(max_age-average_age)\n",
    "print(\"The difference between min_age an average_age is :\",min_diff)\n",
    "print(\"The diffrence between the max_age and average_age is :\",max_diff)\n",
    "\n",
    "#finding middle countries in countries list\n",
    "with open(\"C:/Users/Habiba Isah/Desktop/30DaysOfPython/day_5/countries.py\",\"r\") as file:\n",
    "    countries= [line.strip()for line in file.readlines()]\n",
    "\n",
    "n= len(countries)\n",
    "middle = (\n",
    "    countries[n // 2] if n % 2 != 0 else countries[n // 2 - 1 : n // 2 + 1]\n",
    ")\n",
    "print(\"Middle country(ies):\",middle)\n",
    "\n",
    "#dividing th list into two halves\n",
    "n=len(countries)\n",
    "midpoint= n // 2\n",
    "\n",
    "if n % 2 == 0:\n",
    "    first_half = countries [:midpoint]\n",
    "    second_half = countries [midpoint:]\n",
    "else:\n",
    "    first_half=countries[:midpoint + 1]\n",
    "    second_half=countries[midpoint + 1:]\n",
    "    \n",
    "print('First half:', first_half)\n",
    "print('Second half:', second_half)\n",
    "\n",
    "\n",
    "#unpacking countries\n",
    "L_countries = ['China','Russia','USA','Finland','Sweden','Norway','Dennark']\n",
    "#unpacking\n",
    "first,second,third, *scandic_countries = L_countries\n",
    "print(\"First Country :\",first)\n",
    "print(\"Second Country :\",second)\n",
    "print(\"Third Country :\",third)\n",
    "print(\"Scandic Countries :\",scandic_countries)\n",
    "\n",
    "\n",
    "\n",
    "\n"
   ]
  },
  {
   "cell_type": "markdown",
   "metadata": {},
   "source": [
    "Tuple Exerise Level1"
   ]
  },
  {
   "cell_type": "code",
   "execution_count": 5,
   "metadata": {},
   "outputs": [
    {
     "name": "stdout",
     "output_type": "stream",
     "text": [
      "My sisters are : ('Hauwa', 'Aisha', 'Hafsa', 'Khadijah')\n",
      "My brothers are : ('Manu', 'Aliyu')\n",
      "My siblings are : ('Hauwa', 'Aisha', 'Hafsa', 'Khadijah', 'Manu', 'Aliyu')\n",
      "6\n",
      "My family members are : ('Isah', 'Maryam', 'Hauwa', 'Aisha', 'Hafsa', 'Khadijah', 'Manu', 'Aliyu')\n"
     ]
    }
   ],
   "source": [
    "tuple=()\n",
    "sisters=(\"Hauwa\",\"Aisha\",\"Hafsa\",\"Khadijah\")\n",
    "print(\"My sisters are :\",sisters)\n",
    "\n",
    "Brothers=(\"Manu\",\"Aliyu\")\n",
    "print(\"My brothers are :\",Brothers)\n",
    "siblings=sisters+Brothers\n",
    "print(\"My siblings are :\",siblings)\n",
    "\n",
    "num_siblings=len(siblings)\n",
    "print(num_siblings)\n",
    "\n",
    "family_members=(\"Isah\",\"Maryam\") + siblings\n",
    "print(\"My family members are :\",family_members)\n",
    "\n",
    "\n",
    "\n",
    "\n"
   ]
  },
  {
   "cell_type": "markdown",
   "metadata": {},
   "source": [
    "Tuple Exercise Level 2"
   ]
  },
  {
   "cell_type": "code",
   "execution_count": 14,
   "metadata": {},
   "outputs": [
    {
     "name": "stdout",
     "output_type": "stream",
     "text": [
      "Siblings: ('Hauwa', 'Aisha', 'Hafsa', 'Khadijah', 'Manu', 'Aliyu')\n",
      "Parent: ('Isah', 'Maryam')\n",
      "Food stuff tuple: ('Apple', 'Guava', 'Lemon', 'Carrot', 'Lettus', 'Cabbage', 'Milk', 'Egg', 'Tofu')\n",
      "Food stuff list: ['Apple', 'Guava', 'Lemon', 'Carrot', 'Lettus', 'Cabbage', 'Milk', 'Egg', 'Tofu']\n",
      "Middle item(s): ['Lettus']\n",
      "First Three items: ['Apple', 'Guava', 'Lemon']\n",
      "Last Three items ['Milk', 'Egg', 'Tofu']\n",
      "Deleted food stuff tupple:\n",
      "Estonia is not present.\n"
     ]
    }
   ],
   "source": [
    "siblings,parents = siblings ,(\"Isah\",\"Maryam\")\n",
    "print(\"Siblings:\",siblings)\n",
    "print(\"Parent:\",parents)\n",
    "\n",
    "fruits = (\"Apple\",\"Guava\",\"Lemon\")\n",
    "vegetables= (\"Carrot\",\"Lettus\",\"Cabbage\")\n",
    "animal_products=(\"Milk\",\"Egg\",\"Tofu\")\n",
    "\n",
    "food_stuff_tp=fruits+vegetables+animal_products\n",
    "print(\"Food stuff tuple:\",food_stuff_tp)\n",
    "\n",
    "#chaging to list\n",
    "food_stuff_lt=list(food_stuff_tp)\n",
    "print(\"Food stuff list:\",food_stuff_lt)\n",
    "\n",
    "#slicing out the middle item\n",
    "mid_index=len(food_stuff_tp) // 2\n",
    "if len(food_stuff_tp) % 2 ==0:\n",
    "    middle_items=food_stuff_tp[mid_index - 1 : mid_index + 1]\n",
    "else:\n",
    "    middle_items=[food_stuff_tp[mid_index]]\n",
    "print(\"Middle item(s):\",middle_items)\n",
    "\n",
    "#slice out the first three\n",
    "first_three = food_stuff_lt[:3]\n",
    "last_three = food_stuff_lt[-3:]\n",
    "print(\"First Three items:\",first_three)\n",
    "print(\"Last Three items\",last_three)\n",
    "\n",
    "#delete tupple\n",
    "del(food_stuff_tp)\n",
    "print(\"Deleted food stuff tupple:\")\n",
    "\n",
    "#check for item\n",
    "nordic_countries = ('Denmark', 'Finland','Iceland', 'Norway', 'Sweden')\n",
    "if \"Estonia\" in nordic_countries:\n",
    "    print(\"Estonia is present.\")\n",
    "else:\n",
    "    print(\"Estonia is not present.\")\n",
    "\n",
    "\n"
   ]
  },
  {
   "cell_type": "markdown",
   "metadata": {},
   "source": [
    "Sets Exercises Level1\n",
    "\n",
    "\n"
   ]
  },
  {
   "cell_type": "code",
   "execution_count": 18,
   "metadata": {},
   "outputs": [
    {
     "name": "stdout",
     "output_type": "stream",
     "text": [
      "The length of IT Companies is: 7\n",
      "IT Companies the after addition:{'IBM', 'Google', 'Facebook', 'Oracle', 'Microsoft', 'Amazon', 'Twitter', 'Apple'}\n",
      "IT Companies after adding multiple companies:{'IBM', 'Google', 'Tiktok', 'Microsoft', 'Apple', 'Amazon', 'Twitter', 'Instagram', 'Facebook', 'Oracle', 'Netflix'}\n",
      "IT companies after removing Apple:{'IBM', 'Google', 'Tiktok', 'Microsoft', 'Amazon', 'Twitter', 'Instagram', 'Facebook', 'Oracle', 'Netflix'}\n"
     ]
    }
   ],
   "source": [
    "# sets\n",
    "it_companies = {'Facebook', 'Google', 'Microsoft', 'Apple', 'IBM', 'Oracle', 'Amazon'}\n",
    "A = {19, 22, 24, 20, 25, 26}\n",
    "B = {19, 22, 20, 25, 26, 24, 28, 27}\n",
    "age = [22, 19, 24, 25, 26, 24, 25, 24]\n",
    "\n",
    "Length=len(it_companies)\n",
    "print(f\"The length of IT Companies is: {Length}\")\n",
    "\n",
    "#addTwitter to it companies\n",
    "it_companies.add(\"Twitter\")\n",
    "print(f\"IT Companies the after addition:{it_companies}\")\n",
    "\n",
    "#insert multiple companies\n",
    "new_companies = {\"Netflix\",\"Tiktok\",\"Instagram\"}\n",
    "it_companies.update(new_companies)\n",
    "print(f\"IT Companies after adding multiple companies:{it_companies}\")\n",
    "\n",
    "#remove one of the companies\n",
    "it_companies.remove(\"Apple\")\n",
    "print(f\"IT companies after removing Apple:{it_companies}\")\n",
    "\n",
    "\n"
   ]
  },
  {
   "cell_type": "markdown",
   "metadata": {},
   "source": [
    "Difference Between remove and discard\n",
    "-  Remove:\n",
    "   - Removes a specified element from the set.\n",
    "   - Raises a KeyError if the element is not found .\n",
    "\n",
    "- Discard:\n",
    "  - Removes a specified element from the set.\n",
    "  - Does not raise an error if the element is not found\n",
    "  \n",
    "A Code illustrating this is shown below\n"
   ]
  },
  {
   "cell_type": "code",
   "execution_count": null,
   "metadata": {},
   "outputs": [],
   "source": [
    "it_companies.remove('Yahoo')  # Will raise KeyError if 'Yahoo' is not in the set\n",
    "\n",
    "it_companies.discard('Yahoo')  # Will not raise any error even if 'Yahoo' is not in the set\n"
   ]
  },
  {
   "cell_type": "markdown",
   "metadata": {},
   "source": [
    "Sets Exercises Level 2"
   ]
  },
  {
   "cell_type": "code",
   "execution_count": 25,
   "metadata": {},
   "outputs": [
    {
     "name": "stdout",
     "output_type": "stream",
     "text": [
      "Join(union) of A an B:{19, 20, 22, 24, 25, 26, 27, 28}\n",
      "Interset of A and B is:{19, 20, 22, 24, 25}\n",
      "Is A a subset of B? False\n",
      "Are A and B disjoints?False\n",
      "A union B:{19, 20, 22, 24, 25, 26, 27, 28}\n",
      "B union A:{19, 20, 22, 24, 25, 26, 27, 28}\n",
      "The symmetric difference between A and B is:{26, 27, 28}\n",
      "Sets A and B deleted.\n"
     ]
    }
   ],
   "source": [
    "A={19,22,24,20,25,26}\n",
    "B={19,22,20,25,24,28,27}\n",
    "\n",
    "#Join A and B\n",
    "union_set = A.union(B)\n",
    "print(f\"Join(union) of A an B:{union_set}\")\n",
    "\n",
    "#fin A intersection B\n",
    "intersection_set=A.intersection(B)\n",
    "print(f\"Interset of A and B is:{intersection_set}\")\n",
    "\n",
    "#checking for subsets\n",
    "is_subset=A.issubset(B)\n",
    "print(f\"Is A a subset of B? {is_subset}\")\n",
    "\n",
    "#disjoint\n",
    "disjoint=A.isdisjoint(B)\n",
    "print(f\"Are A and B disjoints?{disjoint}\")\n",
    "\n",
    "#joining\n",
    "joinAUB = A.union(B)\n",
    "joinBUA = B.union(A)\n",
    "print(f\"A union B:{joinAUB}\")\n",
    "print(f\"B union A:{joinBUA}\")\n",
    "\n",
    "#symmetric difference\n",
    "symetric_diff= A.symmetric_difference(B)\n",
    "print(f\"The symmetric difference between A and B is:{symetric_diff}\")\n",
    "\n",
    "\n",
    "#del sets\n",
    "del A,B\n",
    "print(\"Sets A and B deleted.\")"
   ]
  },
  {
   "cell_type": "markdown",
   "metadata": {},
   "source": [
    "Sets Exercises Level 3"
   ]
  },
  {
   "cell_type": "code",
   "execution_count": null,
   "metadata": {},
   "outputs": [
    {
     "name": "stdout",
     "output_type": "stream",
     "text": [
      "The length of the list is 8\n",
      "The length of the set is 5\n",
      "The list is bigger than the set\n"
     ]
    }
   ],
   "source": [
    "age = [22, 19, 24, 25, 26, 24, 25, 24]\n",
    "age_set=set(age)\n",
    "\n",
    "#compare the length \n",
    "list_length=len(age)\n",
    "set_length=len(age_set)\n",
    "\n",
    "print(f\"The length of the list is {list_length}\")\n",
    "print(f\"The length of the set is {set_length}\")\n",
    "\n",
    "if list_length > set_length:\n",
    "    print(\"The list is bigger than the set\")\n",
    "else:\n",
    "    print(\"The set is bigger than the list\")\n",
    "\n"
   ]
  },
  {
   "cell_type": "markdown",
   "metadata": {},
   "source": [
    "## Explanation of Data Types:\n",
    "1. **String**: A sequence of characters used to store text. Strings are immutable, meaning they cannot be changed after creation.\n",
    "   \n",
    "Example: \n",
    "```python\n",
    "print(\"hello,world!\")\n",
    "```\n",
    "  \n",
    "1. **List**: An ordered, mutable collection of items. It can store mixed data types and allows duplicates.\n",
    "\n",
    "Example:\n",
    "```python\n",
    "[1,2,3,\"python\"]\n",
    "```\n",
    "   \n",
    "2. **Tuple**: Similar to a list but immutable, meaning its items cannot be modified after creation. It is used to store a fixed set of items.\n",
    "   \n",
    "Example:\n",
    "```python\n",
    "(1,2,3,\"python\")\n",
    "```\n",
    "   \n",
    "3. **Set**: An unordered collection of unique items. Sets do not allow duplicates and are used for operations like union, intersection, etc.\n",
    "\n",
    "Example:\n",
    "```python\n",
    "{1,2,3,4}\n",
    "```"
   ]
  },
  {
   "cell_type": "code",
   "execution_count": 28,
   "metadata": {},
   "outputs": [
    {
     "name": "stdout",
     "output_type": "stream",
     "text": [
      "Unique words: {'a', 'teacher', 'love', 'people.', 'am', 'to', 'inspire', 'teach', 'and', 'I'}\n",
      "Number of unique words: 10\n"
     ]
    }
   ],
   "source": [
    "sentence = \"I am a teacher and I love to inspire and teach people.\"\n",
    "\n",
    "# Split the sentence into words and convert to a set\n",
    "words = sentence.split()\n",
    "unique_words = set(words)\n",
    "\n",
    "# Number of unique words\n",
    "unique_word_count = len(unique_words)\n",
    "\n",
    "print(f\"Unique words: {unique_words}\")\n",
    "print(f\"Number of unique words: {unique_word_count}\")\n"
   ]
  }
 ],
 "metadata": {
  "kernelspec": {
   "display_name": "Python 3",
   "language": "python",
   "name": "python3"
  },
  "language_info": {
   "codemirror_mode": {
    "name": "ipython",
    "version": 3
   },
   "file_extension": ".py",
   "mimetype": "text/x-python",
   "name": "python",
   "nbconvert_exporter": "python",
   "pygments_lexer": "ipython3",
   "version": "3.13.0"
  }
 },
 "nbformat": 4,
 "nbformat_minor": 2
}
