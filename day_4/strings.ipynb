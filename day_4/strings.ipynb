{
 "cells": [
  {
   "cell_type": "markdown",
   "metadata": {},
   "source": [
    "1&2.Concactinanting strings"
   ]
  },
  {
   "cell_type": "code",
   "execution_count": 9,
   "metadata": {},
   "outputs": [
    {
     "name": "stdout",
     "output_type": "stream",
     "text": [
      "30 days of python\n",
      "Coding for  all\n",
      "30 Days of python\n",
      "Coding For All\n"
     ]
    }
   ],
   "source": [
    "variabl=\"30\" +\" \"  \"days\"+\" \" \"of\"+\" \" \"python\"\n",
    "print(variabl)\n",
    "variab2=\"Coding\"+\" \" \"for\" +\" \" \" all\"\n",
    "print(variab2)\n",
    "             #OR\n",
    "concactinated1=' '.join(['30','Days','of','python'])\n",
    "concactinated2=' '.join(['Coding','For','All'])\n",
    "print(concactinated1)\n",
    "print(concactinated2)"
   ]
  },
  {
   "cell_type": "markdown",
   "metadata": {},
   "source": [
    "3-13.Declaring variable,checking and splitting."
   ]
  },
  {
   "cell_type": "code",
   "execution_count": 9,
   "metadata": {},
   "outputs": [
    {
     "name": "stdout",
     "output_type": "stream",
     "text": [
      "Coding For All\n",
      "14\n",
      "CODING FOR ALL\n",
      "coding for all\n",
      "Coding for all\n",
      "Coding For All\n",
      "cODING fOR aLL\n",
      "Coding\n",
      "True\n",
      "0\n",
      "0\n",
      "Python For All\n",
      "Python for All\n",
      "['Coding', 'For', 'All']\n"
     ]
    }
   ],
   "source": [
    "company=\"Coding For All\"\n",
    "print(company)\n",
    "print(len(company))\n",
    "print(company.upper())\n",
    "print(company.lower())\n",
    "print(company.capitalize())\n",
    "print(company.title())\n",
    "print(company.swapcase())\n",
    "print(company[0:6])\n",
    "print('Coding' in company)\n",
    "print(company.index('Coding'))\n",
    "print(company.find('Coding'))\n",
    "\n",
    "New_company=company.replace(\"Coding\",\"Python\")\n",
    "print(New_company)\n",
    "\n",
    "string=\"Python for Everyone\"\n",
    "new_string=string.replace(\"Everyone\",\"All\")\n",
    "print(new_string)\n",
    "\n",
    "split_company=\"Coding For All\".split(\" \")\n",
    "print(split_company)\n",
    "\n",
    "\n",
    "\n",
    "\n",
    "\n",
    "\n",
    "\n"
   ]
  },
  {
   "cell_type": "markdown",
   "metadata": {},
   "source": [
    "Exercise 14-20\n"
   ]
  },
  {
   "cell_type": "code",
   "execution_count": 23,
   "metadata": {},
   "outputs": [
    {
     "name": "stdout",
     "output_type": "stream",
     "text": [
      "['Facebook', 'Google', 'Microsoft', 'Apple', 'IBM', 'Oracle', 'Amazon']\n",
      "C\n",
      "13\n",
      " \n",
      "PFE\n",
      "CFA\n",
      "0\n"
     ]
    }
   ],
   "source": [
    "Dreamcompanies=\"Facebook,Google,Microsoft,Apple,IBM,Oracle,Amazon\"\n",
    "split_Dreamcompanies=Dreamcompanies.split(\",\")\n",
    "print(split_Dreamcompanies)\n",
    "\n",
    "first_chrctr=\"Coding For All\"[0] \n",
    "print(first_chrctr)\n",
    "\n",
    "last_index=len(\"Coding For All\") -1\n",
    "print(last_index)\n",
    "\n",
    "chrctr_10=\"Coding For All\" [10]\n",
    "print(chrctr_10)\n",
    "\n",
    "Acronym='' .join([word[0] for word in \"Python For Everyone\".split()])\n",
    "print(Acronym)\n",
    "\n",
    "Acronym='' .join([word[0] for word in \"Coding For All\".split()])\n",
    "print(Acronym)\n",
    "\n",
    "Cposition=\"Coding For All\".index(\"C\")\n",
    "print(Cposition)\n",
    "\n",
    "\n",
    "\n",
    "\n"
   ]
  },
  {
   "cell_type": "markdown",
   "metadata": {},
   "source": [
    "Exercise 21-30"
   ]
  },
  {
   "cell_type": "code",
   "execution_count": null,
   "metadata": {},
   "outputs": [
    {
     "name": "stdout",
     "output_type": "stream",
     "text": [
      "7\n",
      "19\n",
      "31\n",
      "47\n",
      "because because because\n",
      "True\n",
      "False\n",
      "Coding For All\n"
     ]
    }
   ],
   "source": [
    "Fposition=\"Coding For All\".index(\"F\")\n",
    "print(Fposition)\n",
    "\n",
    "Position_lastl=\"Coding For All People\".rfind(\"l\")\n",
    "print(Position_lastl)\n",
    "\n",
    "sentence=\"you cannot end a sentence with because because because is a conjunction\"\n",
    "first_because=sentence.find(\"because\")\n",
    "print(first_because)\n",
    "\n",
    "sentence=\"you cannot end a sentence with because because because is a conjunction\"\n",
    "lastC_because=sentence.rindex(\"because\")\n",
    "print(lastC_because)\n",
    "\n",
    "\n",
    "phrase = sentence[sentence.find(\"because\"):sentence.rfind(\"is\")].strip()\n",
    "print(phrase)  # Output: \"because because because\"\n",
    "\n",
    "\n",
    "Startswith_Coding=\"Coding For All\".startswith(\"Coding\")\n",
    "print(Startswith_Coding)\n",
    "\n",
    "Endswith_Coding=\"Coding For All\".endswith(\"Coding\")\n",
    "print(Endswith_Coding)\n",
    "\n",
    "trimm_string='  Coding For All     '.strip()\n",
    "print(trimm_string)\n",
    "\n",
    "\n",
    "\n",
    "\n"
   ]
  },
  {
   "cell_type": "markdown",
   "metadata": {},
   "source": [
    "Exercise 31-35"
   ]
  },
  {
   "cell_type": "code",
   "execution_count": 53,
   "metadata": {},
   "outputs": [
    {
     "name": "stdout",
     "output_type": "stream",
     "text": [
      "False\n",
      "True\n",
      "Django # Flask # Bottle # Pyramid # Falcon\n",
      "I am enjoying this challenge.\n",
      "I just wonder what is next\n",
      "Name\t\tAge\tCountry\tCity\n",
      "Asabeneh\t250\tFinland\tHelsinki\n",
      "The area of circle with a radius 10 is 314.0 meters square.\n",
      "The area of circle with a radius 10 is 314.00 meters square.\n",
      "8 + 6 = 14\n",
      "8 - 6 = 2\n",
      "8 * 6 = 48\n",
      "8 / 6 = 1.33\n",
      "8 % 6 = 2\n",
      "8 // 6 = 1\n",
      "8 ** 6 = 262144\n",
      "8 + 6 = 14\n",
      "8 - 6 = 2\n",
      "8 * 6 = 48\n",
      "8 / 6 = 1.33\n",
      "8 % 6 = 2\n",
      "8 // 6 = 1\n",
      "8 ** 6 = 262144\n"
     ]
    }
   ],
   "source": [
    "print(\"30DaysOfPython\".isidentifier())\n",
    "print(\"thirty_days_of_python\".isidentifier())\n",
    "\n",
    "\n",
    "Libraries=['Django','Flask','Bottle','Pyramid','Falcon']\n",
    "J_Libraries= \" # \".join(Libraries)\n",
    "print(J_Libraries)\n",
    "\n",
    "text=\"I am enjoying this challenge.\\nI just wonder what is next\"\n",
    "print(text)\n",
    "\n",
    "tabescp=\"Name\\t\\tAge\\tCountry\\tCity\\nAsabeneh\\t250\\tFinland\\tHelsinki\"\n",
    "print(tabescp)\n",
    "\n",
    "radius = 10\n",
    "area = 3.14* radius ** 2\n",
    "formated_string = f'The area of circle with a radius {radius} is {area} meters square.' \n",
    "print(formated_string)\n",
    "\n",
    "radius = 10\n",
    "area = 3.14 * radius ** 2\n",
    "fstring = 'The area of circle with a radius {} is {:.2f} meters square.'.format(radius,area)\n",
    "print(fstring)\n",
    "\n",
    "\n",
    "a=8\n",
    "b=6\n",
    "\n",
    "print(f\"{a} + {b} = {a + b}\")\n",
    "print(f\"{a} - {b} = {a - b}\")\n",
    "print(f\"{a} * {b} = {a * b}\")\n",
    "print(f\"{a} / {b} = {a / b:.2f}\")\n",
    "print(f\"{a} % {b} = {a % b}\")\n",
    "print(f\"{a} // {b} = {a // b}\")\n",
    "print(f\"{a} ** {b} = {a ** b}\")\n",
    "\n",
    "\n",
    "a = 8\n",
    "b = 6\n",
    "\n",
    "print(\"{} + {} = {}\".format(a, b, a + b))\n",
    "print(\"{} - {} = {}\".format(a, b, a - b))\n",
    "print(\"{} * {} = {}\".format(a, b, a * b))\n",
    "print(\"{} / {} = {:.2f}\".format(a, b, a / b)) \n",
    "print(\"{} % {} = {}\".format(a, b, a % b))\n",
    "print(\"{} // {} = {}\".format(a, b, a // b))\n",
    "print(\"{} ** {} = {}\".format(a, b, a ** b))\n",
    "\n",
    "\n",
    "\n"
   ]
  }
 ],
 "metadata": {
  "kernelspec": {
   "display_name": "Python 3",
   "language": "python",
   "name": "python3"
  },
  "language_info": {
   "codemirror_mode": {
    "name": "ipython",
    "version": 3
   },
   "file_extension": ".py",
   "mimetype": "text/x-python",
   "name": "python",
   "nbconvert_exporter": "python",
   "pygments_lexer": "ipython3",
   "version": "3.13.0"
  }
 },
 "nbformat": 4,
 "nbformat_minor": 2
}
