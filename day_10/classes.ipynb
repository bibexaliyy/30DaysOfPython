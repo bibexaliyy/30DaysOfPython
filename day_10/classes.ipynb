{
 "cells": [
  {
   "cell_type": "markdown",
   "metadata": {},
   "source": [
    "Exercise Level1\n"
   ]
  },
  {
   "cell_type": "code",
   "execution_count": 15,
   "metadata": {},
   "outputs": [
    {
     "name": "stdout",
     "output_type": "stream",
     "text": [
      "Count: 25\n",
      "Sum: 744\n",
      "Min: 24\n",
      "Max: 38\n",
      "Range: 14\n",
      "Mean:  29.76\n",
      "Median:  29\n",
      "Mode:  ([26], 5)\n",
      "Standard Deviation:  4.188364836066696\n",
      "Variance:  17.5424\n",
      "Frequency Distribution:  [(8.0, 31), (20.0, 26), (8.0, 34), (8.0, 37), (16.0, 27), (12.0, 32), (8.0, 24), (8.0, 33), (4.0, 25), (4.0, 38), (4.0, 29)]\n"
     ]
    }
   ],
   "source": [
    "from collections import Counter\n",
    "import math\n",
    "\n",
    "\n",
    "class Statistics:\n",
    "    def __init__(self, data):\n",
    "        self.data = data\n",
    "    \n",
    "    def count(self):\n",
    "        return len(self.data)\n",
    "    \n",
    "    def sum(self):\n",
    "        return sum(self.data)\n",
    "    \n",
    "    def min(self):\n",
    "        return min(self.data)\n",
    "    \n",
    "    def max(self):\n",
    "        return max(self.data)\n",
    "    \n",
    "    def range(self):\n",
    "        return self.max() - self.min()\n",
    "    \n",
    "    def mean(self):\n",
    "        return self.sum() / self.count()\n",
    "    \n",
    "    def median(self):\n",
    "        sorted_data = sorted(self.data)\n",
    "        n = self.count()\n",
    "        mid = n // 2\n",
    "        if n % 2 == 0:\n",
    "            return (sorted_data[mid - 1] + sorted_data[mid]) / 2\n",
    "        else:\n",
    "            return sorted_data[mid]  \n",
    "    def mode(self):\n",
    "        freq = Counter(self.data)\n",
    "        max_count = max(freq.values())\n",
    "        modes = [key for key, value in freq.items() if value == max_count]\n",
    "        return (modes,max_count)\n",
    "    \n",
    "    def variance(self):\n",
    "        mean = self.mean()\n",
    "        return sum((x - mean) ** 2 for x in self.data)/self.count()\n",
    "    \n",
    "    def std(self):\n",
    "        return math.sqrt(self.variance())\n",
    "    \n",
    "    def freq_dist(self):\n",
    "        freq = Counter(self.data)\n",
    "        total = self.count()\n",
    "        return[(value / total * 100, key) for key, value in freq.items()]\n",
    "    \n",
    "ages = [31, 26, 34, 37, 27, 26, 32, 32, 26, 27, 27, 24, 32, 33, 27, 25, 26, 38, 37, 31, 34, 24, 33, 29, 26]\n",
    "data = Statistics(ages)\n",
    "          \n",
    "print('Count:', data.count())\n",
    "print('Sum:', data.sum())\n",
    "print(\"Min:\", data.min())\n",
    "print(\"Max:\", data.max())\n",
    "print(\"Range:\", data.range())\n",
    "print('Mean: ', data.mean())  \n",
    "print('Median: ', data.median())  \n",
    "print('Mode: ', data.mode())  \n",
    "print('Standard Deviation: ', data.std())  \n",
    "print('Variance: ', data.variance())  \n",
    "print('Frequency Distribution: ', data.freq_dist()) \n",
    "\n"
   ]
  },
  {
   "cell_type": "markdown",
   "metadata": {},
   "source": [
    "Exercise Level 2"
   ]
  },
  {
   "cell_type": "code",
   "execution_count": 28,
   "metadata": {},
   "outputs": [
    {
     "name": "stdout",
     "output_type": "stream",
     "text": [
      "Account Information:\n",
      "Name:Habiba Isah\n",
      "Total Income: 700000\n",
      "Total Expenses: 220000\n",
      "Balance:480000\n",
      "\n"
     ]
    }
   ],
   "source": [
    "class PersonAccount:\n",
    "    def __init__(self,firstname,lastname):\n",
    "        self.firstname = firstname\n",
    "        self.lastname = lastname\n",
    "        self.income = []\n",
    "        self.expenses = []\n",
    "\n",
    "    def add_income(self,amount,description):\n",
    "        self.income.append({\"amount\":amount,\"description\":description})\n",
    "\n",
    "    def add_expense(self,amount,description):\n",
    "        self.expenses.append({\"amount\":amount,\"description\":description})\n",
    "\n",
    "    def total_income(self):\n",
    "        return sum(income[\"amount\"] for income in self.income)\n",
    "\n",
    "    def total_expense(self):\n",
    "        return sum(expense[\"amount\"] for expense in self.expenses)\n",
    "    \n",
    "    def account_balance(self):\n",
    "        return  self.total_income() - self.total_expense()\n",
    "    def account_info(self):\n",
    "        info = (\n",
    "            f\"Account Information:\\n\"\n",
    "            f\"Name:{self.firstname} {self.lastname}\\n\"\n",
    "            f\"Total Income: {self.total_income()}\\n\"\n",
    "            f\"Total Expenses: {self.total_expense()}\\n\"\n",
    "            f\"Balance:{self.account_balance()}\\n\"\n",
    "        )\n",
    "        return info\n",
    "    \n",
    "\n",
    "person = PersonAccount(\"Habiba\", \"Isah\")\n",
    "person.add_income(500000, \"Salary\")\n",
    "person.add_income(200000, \"Freelance\")\n",
    "person.add_expense(150000, \"Groceries\")\n",
    "person.add_expense(70000, \"Transport\")\n",
    "\n",
    "print(person.account_info())\n",
    "    "
   ]
  }
 ],
 "metadata": {
  "kernelspec": {
   "display_name": "Python 3",
   "language": "python",
   "name": "python3"
  },
  "language_info": {
   "codemirror_mode": {
    "name": "ipython",
    "version": 3
   },
   "file_extension": ".py",
   "mimetype": "text/x-python",
   "name": "python",
   "nbconvert_exporter": "python",
   "pygments_lexer": "ipython3",
   "version": "3.13.0"
  }
 },
 "nbformat": 4,
 "nbformat_minor": 2
}
